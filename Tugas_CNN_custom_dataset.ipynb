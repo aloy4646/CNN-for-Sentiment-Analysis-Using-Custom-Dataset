{
  "nbformat": 4,
  "nbformat_minor": 0,
  "metadata": {
    "colab": {
      "provenance": [],
      "include_colab_link": true
    },
    "kernelspec": {
      "name": "python3",
      "display_name": "Python 3"
    },
    "language_info": {
      "name": "python"
    },
    "accelerator": "GPU",
    "gpuClass": "standard"
  },
  "cells": [
    {
      "cell_type": "markdown",
      "metadata": {
        "id": "view-in-github",
        "colab_type": "text"
      },
      "source": [
        "<a href=\"https://colab.research.google.com/github/aloy4646/CNN-for-Sentiment-Analysis-Using-Custom-Dataset/blob/main/Tugas_CNN_custom_dataset.ipynb\" target=\"_parent\"><img src=\"https://colab.research.google.com/assets/colab-badge.svg\" alt=\"Open In Colab\"/></a>"
      ]
    },
    {
      "cell_type": "markdown",
      "source": [
        "# Sentiment Analysis menggunakan CNN pada custom dataset"
      ],
      "metadata": {
        "id": "MP0iXwebK29g"
      }
    },
    {
      "cell_type": "markdown",
      "source": [
        "sumber referensi : https://www.kaggle.com/code/chibuzorokocha/airline-sentiment-analysis-90-accuracy-using-rnn/notebook dan tugas CNN sebelumnya dari buku"
      ],
      "metadata": {
        "id": "KfgSRg-aK9um"
      }
    },
    {
      "cell_type": "code",
      "source": [
        "import re\n",
        "import warnings\n",
        "import itertools\n",
        "import numpy as np \n",
        "import pandas as pd \n",
        "import seaborn as sns\n",
        "import tensorflow as tf\n",
        "import matplotlib.pyplot as plt\n",
        "from keras.preprocessing.text import Tokenizer\n",
        "from keras.utils import pad_sequences\n",
        "from sklearn.model_selection import train_test_split\n",
        "from sklearn.metrics import confusion_matrix\n",
        "from keras.layers import Dense\n",
        "from keras.layers import Flatten\n",
        "from keras.layers import Embedding\n",
        "from keras.layers.convolutional import Conv1D\n",
        "from keras.layers.convolutional import MaxPooling1D\n",
        "from keras.utils.vis_utils import plot_model\n",
        "from keras.models import Sequential\n",
        "warnings.filterwarnings(\"ignore\", category=FutureWarning)"
      ],
      "metadata": {
        "id": "AEgQtpf-5Z7e"
      },
      "execution_count": 1,
      "outputs": []
    },
    {
      "cell_type": "code",
      "source": [
        "from google.colab import drive\n",
        "drive.mount('/content/drive')"
      ],
      "metadata": {
        "colab": {
          "base_uri": "https://localhost:8080/"
        },
        "id": "ZsbNzIlO6NAW",
        "outputId": "c5d82f79-d24c-41a5-dbef-c79f3c1c91cf"
      },
      "execution_count": 2,
      "outputs": [
        {
          "output_type": "stream",
          "name": "stdout",
          "text": [
            "Mounted at /content/drive\n"
          ]
        }
      ]
    },
    {
      "cell_type": "markdown",
      "source": [
        "## Load dataset"
      ],
      "metadata": {
        "id": "A-6CPdP17fXn"
      }
    },
    {
      "cell_type": "code",
      "source": [
        "tweets_df = pd.read_csv(\"drive/MyDrive/Twitter-US-Airline-Sentiment/Tweets.csv\")\n",
        "tweets = tweets_df.copy()"
      ],
      "metadata": {
        "id": "r7_XibOz5don"
      },
      "execution_count": 3,
      "outputs": []
    },
    {
      "cell_type": "markdown",
      "source": [
        "## Lihat isi dataset"
      ],
      "metadata": {
        "id": "vVl0BSvr78zx"
      }
    },
    {
      "cell_type": "code",
      "source": [
        "tweets.head()"
      ],
      "metadata": {
        "colab": {
          "base_uri": "https://localhost:8080/",
          "height": 495
        },
        "id": "g3VBCekh6KMZ",
        "outputId": "0744924f-8910-46b8-a22b-8c70b575205b"
      },
      "execution_count": 4,
      "outputs": [
        {
          "output_type": "execute_result",
          "data": {
            "text/plain": [
              "             tweet_id airline_sentiment  airline_sentiment_confidence  \\\n",
              "0  570306133677760513           neutral                        1.0000   \n",
              "1  570301130888122368          positive                        0.3486   \n",
              "2  570301083672813571           neutral                        0.6837   \n",
              "3  570301031407624196          negative                        1.0000   \n",
              "4  570300817074462722          negative                        1.0000   \n",
              "\n",
              "  negativereason  negativereason_confidence         airline  \\\n",
              "0            NaN                        NaN  Virgin America   \n",
              "1            NaN                     0.0000  Virgin America   \n",
              "2            NaN                        NaN  Virgin America   \n",
              "3     Bad Flight                     0.7033  Virgin America   \n",
              "4     Can't Tell                     1.0000  Virgin America   \n",
              "\n",
              "  airline_sentiment_gold        name negativereason_gold  retweet_count  \\\n",
              "0                    NaN     cairdin                 NaN              0   \n",
              "1                    NaN    jnardino                 NaN              0   \n",
              "2                    NaN  yvonnalynn                 NaN              0   \n",
              "3                    NaN    jnardino                 NaN              0   \n",
              "4                    NaN    jnardino                 NaN              0   \n",
              "\n",
              "                                                text tweet_coord  \\\n",
              "0                @VirginAmerica What @dhepburn said.         NaN   \n",
              "1  @VirginAmerica plus you've added commercials t...         NaN   \n",
              "2  @VirginAmerica I didn't today... Must mean I n...         NaN   \n",
              "3  @VirginAmerica it's really aggressive to blast...         NaN   \n",
              "4  @VirginAmerica and it's a really big bad thing...         NaN   \n",
              "\n",
              "               tweet_created tweet_location               user_timezone  \n",
              "0  2015-02-24 11:35:52 -0800            NaN  Eastern Time (US & Canada)  \n",
              "1  2015-02-24 11:15:59 -0800            NaN  Pacific Time (US & Canada)  \n",
              "2  2015-02-24 11:15:48 -0800      Lets Play  Central Time (US & Canada)  \n",
              "3  2015-02-24 11:15:36 -0800            NaN  Pacific Time (US & Canada)  \n",
              "4  2015-02-24 11:14:45 -0800            NaN  Pacific Time (US & Canada)  "
            ],
            "text/html": [
              "\n",
              "  <div id=\"df-ffdbb146-120e-4092-a182-82ef51a88ae4\">\n",
              "    <div class=\"colab-df-container\">\n",
              "      <div>\n",
              "<style scoped>\n",
              "    .dataframe tbody tr th:only-of-type {\n",
              "        vertical-align: middle;\n",
              "    }\n",
              "\n",
              "    .dataframe tbody tr th {\n",
              "        vertical-align: top;\n",
              "    }\n",
              "\n",
              "    .dataframe thead th {\n",
              "        text-align: right;\n",
              "    }\n",
              "</style>\n",
              "<table border=\"1\" class=\"dataframe\">\n",
              "  <thead>\n",
              "    <tr style=\"text-align: right;\">\n",
              "      <th></th>\n",
              "      <th>tweet_id</th>\n",
              "      <th>airline_sentiment</th>\n",
              "      <th>airline_sentiment_confidence</th>\n",
              "      <th>negativereason</th>\n",
              "      <th>negativereason_confidence</th>\n",
              "      <th>airline</th>\n",
              "      <th>airline_sentiment_gold</th>\n",
              "      <th>name</th>\n",
              "      <th>negativereason_gold</th>\n",
              "      <th>retweet_count</th>\n",
              "      <th>text</th>\n",
              "      <th>tweet_coord</th>\n",
              "      <th>tweet_created</th>\n",
              "      <th>tweet_location</th>\n",
              "      <th>user_timezone</th>\n",
              "    </tr>\n",
              "  </thead>\n",
              "  <tbody>\n",
              "    <tr>\n",
              "      <th>0</th>\n",
              "      <td>570306133677760513</td>\n",
              "      <td>neutral</td>\n",
              "      <td>1.0000</td>\n",
              "      <td>NaN</td>\n",
              "      <td>NaN</td>\n",
              "      <td>Virgin America</td>\n",
              "      <td>NaN</td>\n",
              "      <td>cairdin</td>\n",
              "      <td>NaN</td>\n",
              "      <td>0</td>\n",
              "      <td>@VirginAmerica What @dhepburn said.</td>\n",
              "      <td>NaN</td>\n",
              "      <td>2015-02-24 11:35:52 -0800</td>\n",
              "      <td>NaN</td>\n",
              "      <td>Eastern Time (US &amp; Canada)</td>\n",
              "    </tr>\n",
              "    <tr>\n",
              "      <th>1</th>\n",
              "      <td>570301130888122368</td>\n",
              "      <td>positive</td>\n",
              "      <td>0.3486</td>\n",
              "      <td>NaN</td>\n",
              "      <td>0.0000</td>\n",
              "      <td>Virgin America</td>\n",
              "      <td>NaN</td>\n",
              "      <td>jnardino</td>\n",
              "      <td>NaN</td>\n",
              "      <td>0</td>\n",
              "      <td>@VirginAmerica plus you've added commercials t...</td>\n",
              "      <td>NaN</td>\n",
              "      <td>2015-02-24 11:15:59 -0800</td>\n",
              "      <td>NaN</td>\n",
              "      <td>Pacific Time (US &amp; Canada)</td>\n",
              "    </tr>\n",
              "    <tr>\n",
              "      <th>2</th>\n",
              "      <td>570301083672813571</td>\n",
              "      <td>neutral</td>\n",
              "      <td>0.6837</td>\n",
              "      <td>NaN</td>\n",
              "      <td>NaN</td>\n",
              "      <td>Virgin America</td>\n",
              "      <td>NaN</td>\n",
              "      <td>yvonnalynn</td>\n",
              "      <td>NaN</td>\n",
              "      <td>0</td>\n",
              "      <td>@VirginAmerica I didn't today... Must mean I n...</td>\n",
              "      <td>NaN</td>\n",
              "      <td>2015-02-24 11:15:48 -0800</td>\n",
              "      <td>Lets Play</td>\n",
              "      <td>Central Time (US &amp; Canada)</td>\n",
              "    </tr>\n",
              "    <tr>\n",
              "      <th>3</th>\n",
              "      <td>570301031407624196</td>\n",
              "      <td>negative</td>\n",
              "      <td>1.0000</td>\n",
              "      <td>Bad Flight</td>\n",
              "      <td>0.7033</td>\n",
              "      <td>Virgin America</td>\n",
              "      <td>NaN</td>\n",
              "      <td>jnardino</td>\n",
              "      <td>NaN</td>\n",
              "      <td>0</td>\n",
              "      <td>@VirginAmerica it's really aggressive to blast...</td>\n",
              "      <td>NaN</td>\n",
              "      <td>2015-02-24 11:15:36 -0800</td>\n",
              "      <td>NaN</td>\n",
              "      <td>Pacific Time (US &amp; Canada)</td>\n",
              "    </tr>\n",
              "    <tr>\n",
              "      <th>4</th>\n",
              "      <td>570300817074462722</td>\n",
              "      <td>negative</td>\n",
              "      <td>1.0000</td>\n",
              "      <td>Can't Tell</td>\n",
              "      <td>1.0000</td>\n",
              "      <td>Virgin America</td>\n",
              "      <td>NaN</td>\n",
              "      <td>jnardino</td>\n",
              "      <td>NaN</td>\n",
              "      <td>0</td>\n",
              "      <td>@VirginAmerica and it's a really big bad thing...</td>\n",
              "      <td>NaN</td>\n",
              "      <td>2015-02-24 11:14:45 -0800</td>\n",
              "      <td>NaN</td>\n",
              "      <td>Pacific Time (US &amp; Canada)</td>\n",
              "    </tr>\n",
              "  </tbody>\n",
              "</table>\n",
              "</div>\n",
              "      <button class=\"colab-df-convert\" onclick=\"convertToInteractive('df-ffdbb146-120e-4092-a182-82ef51a88ae4')\"\n",
              "              title=\"Convert this dataframe to an interactive table.\"\n",
              "              style=\"display:none;\">\n",
              "        \n",
              "  <svg xmlns=\"http://www.w3.org/2000/svg\" height=\"24px\"viewBox=\"0 0 24 24\"\n",
              "       width=\"24px\">\n",
              "    <path d=\"M0 0h24v24H0V0z\" fill=\"none\"/>\n",
              "    <path d=\"M18.56 5.44l.94 2.06.94-2.06 2.06-.94-2.06-.94-.94-2.06-.94 2.06-2.06.94zm-11 1L8.5 8.5l.94-2.06 2.06-.94-2.06-.94L8.5 2.5l-.94 2.06-2.06.94zm10 10l.94 2.06.94-2.06 2.06-.94-2.06-.94-.94-2.06-.94 2.06-2.06.94z\"/><path d=\"M17.41 7.96l-1.37-1.37c-.4-.4-.92-.59-1.43-.59-.52 0-1.04.2-1.43.59L10.3 9.45l-7.72 7.72c-.78.78-.78 2.05 0 2.83L4 21.41c.39.39.9.59 1.41.59.51 0 1.02-.2 1.41-.59l7.78-7.78 2.81-2.81c.8-.78.8-2.07 0-2.86zM5.41 20L4 18.59l7.72-7.72 1.47 1.35L5.41 20z\"/>\n",
              "  </svg>\n",
              "      </button>\n",
              "      \n",
              "  <style>\n",
              "    .colab-df-container {\n",
              "      display:flex;\n",
              "      flex-wrap:wrap;\n",
              "      gap: 12px;\n",
              "    }\n",
              "\n",
              "    .colab-df-convert {\n",
              "      background-color: #E8F0FE;\n",
              "      border: none;\n",
              "      border-radius: 50%;\n",
              "      cursor: pointer;\n",
              "      display: none;\n",
              "      fill: #1967D2;\n",
              "      height: 32px;\n",
              "      padding: 0 0 0 0;\n",
              "      width: 32px;\n",
              "    }\n",
              "\n",
              "    .colab-df-convert:hover {\n",
              "      background-color: #E2EBFA;\n",
              "      box-shadow: 0px 1px 2px rgba(60, 64, 67, 0.3), 0px 1px 3px 1px rgba(60, 64, 67, 0.15);\n",
              "      fill: #174EA6;\n",
              "    }\n",
              "\n",
              "    [theme=dark] .colab-df-convert {\n",
              "      background-color: #3B4455;\n",
              "      fill: #D2E3FC;\n",
              "    }\n",
              "\n",
              "    [theme=dark] .colab-df-convert:hover {\n",
              "      background-color: #434B5C;\n",
              "      box-shadow: 0px 1px 3px 1px rgba(0, 0, 0, 0.15);\n",
              "      filter: drop-shadow(0px 1px 2px rgba(0, 0, 0, 0.3));\n",
              "      fill: #FFFFFF;\n",
              "    }\n",
              "  </style>\n",
              "\n",
              "      <script>\n",
              "        const buttonEl =\n",
              "          document.querySelector('#df-ffdbb146-120e-4092-a182-82ef51a88ae4 button.colab-df-convert');\n",
              "        buttonEl.style.display =\n",
              "          google.colab.kernel.accessAllowed ? 'block' : 'none';\n",
              "\n",
              "        async function convertToInteractive(key) {\n",
              "          const element = document.querySelector('#df-ffdbb146-120e-4092-a182-82ef51a88ae4');\n",
              "          const dataTable =\n",
              "            await google.colab.kernel.invokeFunction('convertToInteractive',\n",
              "                                                     [key], {});\n",
              "          if (!dataTable) return;\n",
              "\n",
              "          const docLinkHtml = 'Like what you see? Visit the ' +\n",
              "            '<a target=\"_blank\" href=https://colab.research.google.com/notebooks/data_table.ipynb>data table notebook</a>'\n",
              "            + ' to learn more about interactive tables.';\n",
              "          element.innerHTML = '';\n",
              "          dataTable['output_type'] = 'display_data';\n",
              "          await google.colab.output.renderOutput(dataTable, element);\n",
              "          const docLink = document.createElement('div');\n",
              "          docLink.innerHTML = docLinkHtml;\n",
              "          element.appendChild(docLink);\n",
              "        }\n",
              "      </script>\n",
              "    </div>\n",
              "  </div>\n",
              "  "
            ]
          },
          "metadata": {},
          "execution_count": 4
        }
      ]
    },
    {
      "cell_type": "markdown",
      "source": [
        "fitur yang penting untuk sentiment analysis hanya airline_sentiment dan text. Text berisi kata-kata yang kurang penting seperti @VirginAmerica, @UnitedAir, dll yang merupakan Nama Akun dari airlines."
      ],
      "metadata": {
        "id": "Kp6u4i1m8qjI"
      }
    },
    {
      "cell_type": "code",
      "source": [
        "tweets['airline_sentiment'].hist()"
      ],
      "metadata": {
        "colab": {
          "base_uri": "https://localhost:8080/",
          "height": 448
        },
        "id": "ZbEC23cP7Uw1",
        "outputId": "a6495891-3eb1-42e1-f329-e0cea5cbbd05"
      },
      "execution_count": 5,
      "outputs": [
        {
          "output_type": "execute_result",
          "data": {
            "text/plain": [
              "<Axes: >"
            ]
          },
          "metadata": {},
          "execution_count": 5
        },
        {
          "output_type": "display_data",
          "data": {
            "text/plain": [
              "<Figure size 640x480 with 1 Axes>"
            ],
            "image/png": "[encoded data removed]"
          },
          "metadata": {}
        }
      ]
    },
    {
      "cell_type": "markdown",
      "source": [
        "Terjadi class imbalance, tweets ber-sentiment negative jauh lebih tinggi dibanding neutral maupun positive"
      ],
      "metadata": {
        "id": "Hip8Yobe7kbf"
      }
    },
    {
      "cell_type": "markdown",
      "source": [
        "## Data Cleaning"
      ],
      "metadata": {
        "id": "1wVMtWiX-ZR2"
      }
    },
    {
      "cell_type": "markdown",
      "source": [
        "### Hapus nama akun airlines dari text"
      ],
      "metadata": {
        "id": "bZCXe7OR-fb9"
      }
    },
    {
      "cell_type": "code",
      "source": [
        "tweets_noAccountName = tweets[[\"text\",\"airline_sentiment\"]]\n",
        "tweets_noAccountName['text'] = tweets_noAccountName['text'].map(lambda x: x.lstrip('@VirginAmerica@UnitedAir@Southwestairline@DeltaAir@USAirways@American').rstrip('@'))"
      ],
      "metadata": {
        "colab": {
          "base_uri": "https://localhost:8080/"
        },
        "id": "Tav-tRxO7anV",
        "outputId": "fd0cbb27-4622-49fb-ac27-d5e2ce7fecd7"
      },
      "execution_count": 6,
      "outputs": [
        {
          "output_type": "stream",
          "name": "stderr",
          "text": [
            "<ipython-input-6-cc87d9ec078b>:2: SettingWithCopyWarning: \n",
            "A value is trying to be set on a copy of a slice from a DataFrame.\n",
            "Try using .loc[row_indexer,col_indexer] = value instead\n",
            "\n",
            "See the caveats in the documentation: https://pandas.pydata.org/pandas-docs/stable/user_guide/indexing.html#returning-a-view-versus-a-copy\n",
            "  tweets_noAccountName['text'] = tweets_noAccountName['text'].map(lambda x: x.lstrip('@VirginAmerica@UnitedAir@Southwestairline@DeltaAir@USAirways@American').rstrip('@'))\n"
          ]
        }
      ]
    },
    {
      "cell_type": "code",
      "source": [
        "tweets_noAccountName.head()"
      ],
      "metadata": {
        "colab": {
          "base_uri": "https://localhost:8080/",
          "height": 206
        },
        "id": "UdmnL2gr-0yU",
        "outputId": "6ff578ab-bd38-42fe-c43f-026a15bf47c6"
      },
      "execution_count": 7,
      "outputs": [
        {
          "output_type": "execute_result",
          "data": {
            "text/plain": [
              "                                                text airline_sentiment\n",
              "0                               What @dhepburn said.           neutral\n",
              "1   plus you've added commercials to the experien...          positive\n",
              "2   I didn't today... Must mean I need to take an...           neutral\n",
              "3   it's really aggressive to blast obnoxious \"en...          negative\n",
              "4           and it's a really big bad thing about it          negative"
            ],
            "text/html": [
              "\n",
              "  <div id=\"df-1cce139c-354b-4faa-b29d-bf6117ae311e\">\n",
              "    <div class=\"colab-df-container\">\n",
              "      <div>\n",
              "<style scoped>\n",
              "    .dataframe tbody tr th:only-of-type {\n",
              "        vertical-align: middle;\n",
              "    }\n",
              "\n",
              "    .dataframe tbody tr th {\n",
              "        vertical-align: top;\n",
              "    }\n",
              "\n",
              "    .dataframe thead th {\n",
              "        text-align: right;\n",
              "    }\n",
              "</style>\n",
              "<table border=\"1\" class=\"dataframe\">\n",
              "  <thead>\n",
              "    <tr style=\"text-align: right;\">\n",
              "      <th></th>\n",
              "      <th>text</th>\n",
              "      <th>airline_sentiment</th>\n",
              "    </tr>\n",
              "  </thead>\n",
              "  <tbody>\n",
              "    <tr>\n",
              "      <th>0</th>\n",
              "      <td>What @dhepburn said.</td>\n",
              "      <td>neutral</td>\n",
              "    </tr>\n",
              "    <tr>\n",
              "      <th>1</th>\n",
              "      <td>plus you've added commercials to the experien...</td>\n",
              "      <td>positive</td>\n",
              "    </tr>\n",
              "    <tr>\n",
              "      <th>2</th>\n",
              "      <td>I didn't today... Must mean I need to take an...</td>\n",
              "      <td>neutral</td>\n",
              "    </tr>\n",
              "    <tr>\n",
              "      <th>3</th>\n",
              "      <td>it's really aggressive to blast obnoxious \"en...</td>\n",
              "      <td>negative</td>\n",
              "    </tr>\n",
              "    <tr>\n",
              "      <th>4</th>\n",
              "      <td>and it's a really big bad thing about it</td>\n",
              "      <td>negative</td>\n",
              "    </tr>\n",
              "  </tbody>\n",
              "</table>\n",
              "</div>\n",
              "      <button class=\"colab-df-convert\" onclick=\"convertToInteractive('df-1cce139c-354b-4faa-b29d-bf6117ae311e')\"\n",
              "              title=\"Convert this dataframe to an interactive table.\"\n",
              "              style=\"display:none;\">\n",
              "        \n",
              "  <svg xmlns=\"http://www.w3.org/2000/svg\" height=\"24px\"viewBox=\"0 0 24 24\"\n",
              "       width=\"24px\">\n",
              "    <path d=\"M0 0h24v24H0V0z\" fill=\"none\"/>\n",
              "    <path d=\"M18.56 5.44l.94 2.06.94-2.06 2.06-.94-2.06-.94-.94-2.06-.94 2.06-2.06.94zm-11 1L8.5 8.5l.94-2.06 2.06-.94-2.06-.94L8.5 2.5l-.94 2.06-2.06.94zm10 10l.94 2.06.94-2.06 2.06-.94-2.06-.94-.94-2.06-.94 2.06-2.06.94z\"/><path d=\"M17.41 7.96l-1.37-1.37c-.4-.4-.92-.59-1.43-.59-.52 0-1.04.2-1.43.59L10.3 9.45l-7.72 7.72c-.78.78-.78 2.05 0 2.83L4 21.41c.39.39.9.59 1.41.59.51 0 1.02-.2 1.41-.59l7.78-7.78 2.81-2.81c.8-.78.8-2.07 0-2.86zM5.41 20L4 18.59l7.72-7.72 1.47 1.35L5.41 20z\"/>\n",
              "  </svg>\n",
              "      </button>\n",
              "      \n",
              "  <style>\n",
              "    .colab-df-container {\n",
              "      display:flex;\n",
              "      flex-wrap:wrap;\n",
              "      gap: 12px;\n",
              "    }\n",
              "\n",
              "    .colab-df-convert {\n",
              "      background-color: #E8F0FE;\n",
              "      border: none;\n",
              "      border-radius: 50%;\n",
              "      cursor: pointer;\n",
              "      display: none;\n",
              "      fill: #1967D2;\n",
              "      height: 32px;\n",
              "      padding: 0 0 0 0;\n",
              "      width: 32px;\n",
              "    }\n",
              "\n",
              "    .colab-df-convert:hover {\n",
              "      background-color: #E2EBFA;\n",
              "      box-shadow: 0px 1px 2px rgba(60, 64, 67, 0.3), 0px 1px 3px 1px rgba(60, 64, 67, 0.15);\n",
              "      fill: #174EA6;\n",
              "    }\n",
              "\n",
              "    [theme=dark] .colab-df-convert {\n",
              "      background-color: #3B4455;\n",
              "      fill: #D2E3FC;\n",
              "    }\n",
              "\n",
              "    [theme=dark] .colab-df-convert:hover {\n",
              "      background-color: #434B5C;\n",
              "      box-shadow: 0px 1px 3px 1px rgba(0, 0, 0, 0.15);\n",
              "      filter: drop-shadow(0px 1px 2px rgba(0, 0, 0, 0.3));\n",
              "      fill: #FFFFFF;\n",
              "    }\n",
              "  </style>\n",
              "\n",
              "      <script>\n",
              "        const buttonEl =\n",
              "          document.querySelector('#df-1cce139c-354b-4faa-b29d-bf6117ae311e button.colab-df-convert');\n",
              "        buttonEl.style.display =\n",
              "          google.colab.kernel.accessAllowed ? 'block' : 'none';\n",
              "\n",
              "        async function convertToInteractive(key) {\n",
              "          const element = document.querySelector('#df-1cce139c-354b-4faa-b29d-bf6117ae311e');\n",
              "          const dataTable =\n",
              "            await google.colab.kernel.invokeFunction('convertToInteractive',\n",
              "                                                     [key], {});\n",
              "          if (!dataTable) return;\n",
              "\n",
              "          const docLinkHtml = 'Like what you see? Visit the ' +\n",
              "            '<a target=\"_blank\" href=https://colab.research.google.com/notebooks/data_table.ipynb>data table notebook</a>'\n",
              "            + ' to learn more about interactive tables.';\n",
              "          element.innerHTML = '';\n",
              "          dataTable['output_type'] = 'display_data';\n",
              "          await google.colab.output.renderOutput(dataTable, element);\n",
              "          const docLink = document.createElement('div');\n",
              "          docLink.innerHTML = docLinkHtml;\n",
              "          element.appendChild(docLink);\n",
              "        }\n",
              "      </script>\n",
              "    </div>\n",
              "  </div>\n",
              "  "
            ]
          },
          "metadata": {},
          "execution_count": 7
        }
      ]
    },
    {
      "cell_type": "markdown",
      "source": [
        "### Menghapus neutral sentiment. Sentiment yang akan dipakai hanya positive dan negative"
      ],
      "metadata": {
        "id": "bEws-2BK_MT8"
      }
    },
    {
      "cell_type": "code",
      "source": [
        "tweets_noNeutral = tweets_noAccountName[tweets_noAccountName.airline_sentiment!=\"neutral\"]"
      ],
      "metadata": {
        "id": "Dld4iqRE_G6F"
      },
      "execution_count": 8,
      "outputs": []
    },
    {
      "cell_type": "code",
      "source": [
        "tweets_noNeutral['airline_sentiment'].hist()"
      ],
      "metadata": {
        "colab": {
          "base_uri": "https://localhost:8080/",
          "height": 448
        },
        "id": "GDOrcAUt_XjQ",
        "outputId": "de07cbb6-a9bf-4a4b-e257-6d1d2a5da52c"
      },
      "execution_count": 9,
      "outputs": [
        {
          "output_type": "execute_result",
          "data": {
            "text/plain": [
              "<Axes: >"
            ]
          },
          "metadata": {},
          "execution_count": 9
        },
        {
          "output_type": "display_data",
          "data": {
            "text/plain": [
              "<Figure size 640x480 with 1 Axes>"
            ],
            "image/png": "[encoded data removed]"
          },
          "metadata": {}
        }
      ]
    },
    {
      "cell_type": "markdown",
      "source": [
        "### Menghapus beberapa tweets yang ber-sentiment negative agar seimbang dengan positive"
      ],
      "metadata": {
        "id": "qNwdEAz5LrxO"
      }
    },
    {
      "cell_type": "code",
      "source": [
        "jumlah_negative_yang_dihapus = len(tweets_noNeutral[tweets_noNeutral['airline_sentiment']=='negative']) - len(tweets_noNeutral[tweets_noNeutral['airline_sentiment']=='positive'])\n",
        "tweets_balance = tweets_noNeutral.drop(tweets_noNeutral[tweets_noNeutral.airline_sentiment == \"negative\"].iloc[:jumlah_negative_yang_dihapus].index)\n",
        "print('Sebanyak %s tweets yang ber-sentiment negative telah dihapus' % jumlah_negative_yang_dihapus)"
      ],
      "metadata": {
        "colab": {
          "base_uri": "https://localhost:8080/"
        },
        "id": "YFL92Lt1_dmm",
        "outputId": "1720ae1e-83cb-4a07-99fc-e3e4aa78390e"
      },
      "execution_count": 10,
      "outputs": [
        {
          "output_type": "stream",
          "name": "stdout",
          "text": [
            "Sebanyak 6815 tweets yang ber-sentiment negative telah dihapus\n"
          ]
        }
      ]
    },
    {
      "cell_type": "code",
      "source": [
        "tweets_balance['airline_sentiment'].hist()"
      ],
      "metadata": {
        "colab": {
          "base_uri": "https://localhost:8080/",
          "height": 448
        },
        "id": "je9KaKWCBUZl",
        "outputId": "34c211d7-31d8-42e9-9b0e-db0c6b71aee7"
      },
      "execution_count": 11,
      "outputs": [
        {
          "output_type": "execute_result",
          "data": {
            "text/plain": [
              "<Axes: >"
            ]
          },
          "metadata": {},
          "execution_count": 11
        },
        {
          "output_type": "display_data",
          "data": {
            "text/plain": [
              "<Figure size 640x480 with 1 Axes>"
            ],
            "image/png": "[encoded data removed]"
          },
          "metadata": {}
        }
      ]
    },
    {
      "cell_type": "markdown",
      "source": [
        "### Menghapus huruf-huruf unik dan membuat text menjadi lower case"
      ],
      "metadata": {
        "id": "keagUogvDeF4"
      }
    },
    {
      "cell_type": "code",
      "source": [
        "tweets_clean = tweets_balance\n",
        "tweets_clean['text'] = tweets_clean['text'].apply(lambda x: x.lower())\n",
        "tweets_clean['text'] = tweets_clean['text'].apply((lambda x: re.sub('[^a-zA-z0-9\\s]','',x))) # hanya menyimipan angka dan string saja\n",
        "tweets_clean"
      ],
      "metadata": {
        "colab": {
          "base_uri": "https://localhost:8080/",
          "height": 423
        },
        "id": "LjVxkhoODcuX",
        "outputId": "2afd6e79-181c-4601-9f9e-c99e20b1e409"
      },
      "execution_count": 12,
      "outputs": [
        {
          "output_type": "execute_result",
          "data": {
            "text/plain": [
              "                                                    text airline_sentiment\n",
              "1       plus youve added commercials to the experienc...          positive\n",
              "6       yes nearly every time i fly vx this ear worm ...          positive\n",
              "8               virginamerica well i didntbut now i do d          positive\n",
              "9       it was amazing and arrived an hour early your...          positive\n",
              "11      i lt3 pretty graphics so much better than min...          positive\n",
              "...                                                  ...               ...\n",
              "14633   my flight was cancelled flightled leaving tom...          negative\n",
              "14634                       right on cue with the delays          negative\n",
              "14635   thank you we got on a different flight to chi...          positive\n",
              "14636   leaving over 20 minutes late flight no warnin...          negative\n",
              "14638   you have my money you change my flight and do...          negative\n",
              "\n",
              "[4726 rows x 2 columns]"
            ],
            "text/html": [
              "\n",
              "  <div id=\"df-df01abf2-d7d2-47a5-8bf4-c977e303618d\">\n",
              "    <div class=\"colab-df-container\">\n",
              "      <div>\n",
              "<style scoped>\n",
              "    .dataframe tbody tr th:only-of-type {\n",
              "        vertical-align: middle;\n",
              "    }\n",
              "\n",
              "    .dataframe tbody tr th {\n",
              "        vertical-align: top;\n",
              "    }\n",
              "\n",
              "    .dataframe thead th {\n",
              "        text-align: right;\n",
              "    }\n",
              "</style>\n",
              "<table border=\"1\" class=\"dataframe\">\n",
              "  <thead>\n",
              "    <tr style=\"text-align: right;\">\n",
              "      <th></th>\n",
              "      <th>text</th>\n",
              "      <th>airline_sentiment</th>\n",
              "    </tr>\n",
              "  </thead>\n",
              "  <tbody>\n",
              "    <tr>\n",
              "      <th>1</th>\n",
              "      <td>plus youve added commercials to the experienc...</td>\n",
              "      <td>positive</td>\n",
              "    </tr>\n",
              "    <tr>\n",
              "      <th>6</th>\n",
              "      <td>yes nearly every time i fly vx this ear worm ...</td>\n",
              "      <td>positive</td>\n",
              "    </tr>\n",
              "    <tr>\n",
              "      <th>8</th>\n",
              "      <td>virginamerica well i didntbut now i do d</td>\n",
              "      <td>positive</td>\n",
              "    </tr>\n",
              "    <tr>\n",
              "      <th>9</th>\n",
              "      <td>it was amazing and arrived an hour early your...</td>\n",
              "      <td>positive</td>\n",
              "    </tr>\n",
              "    <tr>\n",
              "      <th>11</th>\n",
              "      <td>i lt3 pretty graphics so much better than min...</td>\n",
              "      <td>positive</td>\n",
              "    </tr>\n",
              "    <tr>\n",
              "      <th>...</th>\n",
              "      <td>...</td>\n",
              "      <td>...</td>\n",
              "    </tr>\n",
              "    <tr>\n",
              "      <th>14633</th>\n",
              "      <td>my flight was cancelled flightled leaving tom...</td>\n",
              "      <td>negative</td>\n",
              "    </tr>\n",
              "    <tr>\n",
              "      <th>14634</th>\n",
              "      <td>right on cue with the delays</td>\n",
              "      <td>negative</td>\n",
              "    </tr>\n",
              "    <tr>\n",
              "      <th>14635</th>\n",
              "      <td>thank you we got on a different flight to chi...</td>\n",
              "      <td>positive</td>\n",
              "    </tr>\n",
              "    <tr>\n",
              "      <th>14636</th>\n",
              "      <td>leaving over 20 minutes late flight no warnin...</td>\n",
              "      <td>negative</td>\n",
              "    </tr>\n",
              "    <tr>\n",
              "      <th>14638</th>\n",
              "      <td>you have my money you change my flight and do...</td>\n",
              "      <td>negative</td>\n",
              "    </tr>\n",
              "  </tbody>\n",
              "</table>\n",
              "<p>4726 rows × 2 columns</p>\n",
              "</div>\n",
              "      <button class=\"colab-df-convert\" onclick=\"convertToInteractive('df-df01abf2-d7d2-47a5-8bf4-c977e303618d')\"\n",
              "              title=\"Convert this dataframe to an interactive table.\"\n",
              "              style=\"display:none;\">\n",
              "        \n",
              "  <svg xmlns=\"http://www.w3.org/2000/svg\" height=\"24px\"viewBox=\"0 0 24 24\"\n",
              "       width=\"24px\">\n",
              "    <path d=\"M0 0h24v24H0V0z\" fill=\"none\"/>\n",
              "    <path d=\"M18.56 5.44l.94 2.06.94-2.06 2.06-.94-2.06-.94-.94-2.06-.94 2.06-2.06.94zm-11 1L8.5 8.5l.94-2.06 2.06-.94-2.06-.94L8.5 2.5l-.94 2.06-2.06.94zm10 10l.94 2.06.94-2.06 2.06-.94-2.06-.94-.94-2.06-.94 2.06-2.06.94z\"/><path d=\"M17.41 7.96l-1.37-1.37c-.4-.4-.92-.59-1.43-.59-.52 0-1.04.2-1.43.59L10.3 9.45l-7.72 7.72c-.78.78-.78 2.05 0 2.83L4 21.41c.39.39.9.59 1.41.59.51 0 1.02-.2 1.41-.59l7.78-7.78 2.81-2.81c.8-.78.8-2.07 0-2.86zM5.41 20L4 18.59l7.72-7.72 1.47 1.35L5.41 20z\"/>\n",
              "  </svg>\n",
              "      </button>\n",
              "      \n",
              "  <style>\n",
              "    .colab-df-container {\n",
              "      display:flex;\n",
              "      flex-wrap:wrap;\n",
              "      gap: 12px;\n",
              "    }\n",
              "\n",
              "    .colab-df-convert {\n",
              "      background-color: #E8F0FE;\n",
              "      border: none;\n",
              "      border-radius: 50%;\n",
              "      cursor: pointer;\n",
              "      display: none;\n",
              "      fill: #1967D2;\n",
              "      height: 32px;\n",
              "      padding: 0 0 0 0;\n",
              "      width: 32px;\n",
              "    }\n",
              "\n",
              "    .colab-df-convert:hover {\n",
              "      background-color: #E2EBFA;\n",
              "      box-shadow: 0px 1px 2px rgba(60, 64, 67, 0.3), 0px 1px 3px 1px rgba(60, 64, 67, 0.15);\n",
              "      fill: #174EA6;\n",
              "    }\n",
              "\n",
              "    [theme=dark] .colab-df-convert {\n",
              "      background-color: #3B4455;\n",
              "      fill: #D2E3FC;\n",
              "    }\n",
              "\n",
              "    [theme=dark] .colab-df-convert:hover {\n",
              "      background-color: #434B5C;\n",
              "      box-shadow: 0px 1px 3px 1px rgba(0, 0, 0, 0.15);\n",
              "      filter: drop-shadow(0px 1px 2px rgba(0, 0, 0, 0.3));\n",
              "      fill: #FFFFFF;\n",
              "    }\n",
              "  </style>\n",
              "\n",
              "      <script>\n",
              "        const buttonEl =\n",
              "          document.querySelector('#df-df01abf2-d7d2-47a5-8bf4-c977e303618d button.colab-df-convert');\n",
              "        buttonEl.style.display =\n",
              "          google.colab.kernel.accessAllowed ? 'block' : 'none';\n",
              "\n",
              "        async function convertToInteractive(key) {\n",
              "          const element = document.querySelector('#df-df01abf2-d7d2-47a5-8bf4-c977e303618d');\n",
              "          const dataTable =\n",
              "            await google.colab.kernel.invokeFunction('convertToInteractive',\n",
              "                                                     [key], {});\n",
              "          if (!dataTable) return;\n",
              "\n",
              "          const docLinkHtml = 'Like what you see? Visit the ' +\n",
              "            '<a target=\"_blank\" href=https://colab.research.google.com/notebooks/data_table.ipynb>data table notebook</a>'\n",
              "            + ' to learn more about interactive tables.';\n",
              "          element.innerHTML = '';\n",
              "          dataTable['output_type'] = 'display_data';\n",
              "          await google.colab.output.renderOutput(dataTable, element);\n",
              "          const docLink = document.createElement('div');\n",
              "          docLink.innerHTML = docLinkHtml;\n",
              "          element.appendChild(docLink);\n",
              "        }\n",
              "      </script>\n",
              "    </div>\n",
              "  </div>\n",
              "  "
            ]
          },
          "metadata": {},
          "execution_count": 12
        }
      ]
    },
    {
      "cell_type": "markdown",
      "source": [
        "## Mengubah text ke sequence of integers / Tokenizing"
      ],
      "metadata": {
        "id": "9mK6qfzuE7_9"
      }
    },
    {
      "cell_type": "code",
      "source": [
        "max_fatures = 4000\n",
        "tokenizer = Tokenizer(num_words = max_fatures, split=' ')\n",
        "tokenizer.fit_on_texts(tweets_clean['text'].values)\n",
        "X = tokenizer.texts_to_sequences(tweets_clean['text'].values)\n",
        "X = pad_sequences(X)\n",
        "Y = tweets_clean['airline_sentiment']\n",
        "L = Y.values\n",
        "\n",
        "# X ==> text yang sudah diubah menjadi integer yang unik dan merepresentasikan sebuah kata\n",
        "# L ==> airlines_sentiment yang di-convert ke Numpy Array agar bisa digunakan sebagai label saat di-training"
      ],
      "metadata": {
        "id": "qDU0rQnxDwYS"
      },
      "execution_count": 13,
      "outputs": []
    },
    {
      "cell_type": "code",
      "source": [
        "X"
      ],
      "metadata": {
        "colab": {
          "base_uri": "https://localhost:8080/"
        },
        "id": "-TkMra0UGbKo",
        "outputId": "fcd0f9c9-6264-42d0-e277-00cb1b099e76"
      },
      "execution_count": 14,
      "outputs": [
        {
          "output_type": "execute_result",
          "data": {
            "text/plain": [
              "array([[   0,    0,    0, ...,    2,  194, 3201],\n",
              "       [   0,    0,    0, ...,  220,  138,  421],\n",
              "       [   0,    0,    0, ...,    3,   46,  757],\n",
              "       ...,\n",
              "       [   0,    0,    0, ...,    8,    1,  438],\n",
              "       [   0,    0,    0, ..., 1389,   42,  805],\n",
              "       [   0,    0,    0, ...,  135,   10, 1592]], dtype=int32)"
            ]
          },
          "metadata": {},
          "execution_count": 14
        }
      ]
    },
    {
      "cell_type": "code",
      "source": [
        "L"
      ],
      "metadata": {
        "colab": {
          "base_uri": "https://localhost:8080/"
        },
        "id": "ADXLNX1GGjjQ",
        "outputId": "c6051d46-ef9b-4b58-a5d2-7b84ab8947fc"
      },
      "execution_count": 15,
      "outputs": [
        {
          "output_type": "execute_result",
          "data": {
            "text/plain": [
              "array(['positive', 'positive', 'positive', ..., 'positive', 'negative',\n",
              "       'negative'], dtype=object)"
            ]
          },
          "metadata": {},
          "execution_count": 15
        }
      ]
    },
    {
      "cell_type": "markdown",
      "source": [
        "### mengubah L (label) menjadi integer"
      ],
      "metadata": {
        "id": "kAOpPjKTGskL"
      }
    },
    {
      "cell_type": "code",
      "source": [
        "label = []\n",
        "for i in range(len(L)):\n",
        "    if L[i]==\"negative\":\n",
        "                        label.append(0)\n",
        "    elif L[i]==\"positive\":\n",
        "                        label.append(1)\n",
        "label = np.array(label)"
      ],
      "metadata": {
        "id": "LPub3IlJGlcx"
      },
      "execution_count": 16,
      "outputs": []
    },
    {
      "cell_type": "markdown",
      "source": [
        "## Split train dan test data"
      ],
      "metadata": {
        "id": "2ltlKGCJHCGO"
      }
    },
    {
      "cell_type": "code",
      "source": [
        "X_train, X_test, Y_train, Y_test = train_test_split(X, label, \n",
        "                                                    test_size=0.3, \n",
        "                                                    shuffle = True,\n",
        "                                                    stratify = label,\n",
        "                                                    random_state = 1)"
      ],
      "metadata": {
        "id": "56hKpfEYG2E7"
      },
      "execution_count": 17,
      "outputs": []
    },
    {
      "cell_type": "markdown",
      "source": [
        "## Membuat model untuk training"
      ],
      "metadata": {
        "id": "7mSjyNf9HfAc"
      }
    },
    {
      "cell_type": "code",
      "source": [
        "model = Sequential()\n",
        "model.add(Embedding(max_fatures, 100, input_length=X_train.shape[1]))\n",
        "model.add(Conv1D(filters=32, kernel_size=8, activation='relu'))\n",
        "model.add(MaxPooling1D(pool_size=2))\n",
        "model.add(Flatten())\n",
        "model.add(Dense(10, activation='relu'))\n",
        "model.add(Dense(1, activation='sigmoid'))\n",
        "# compile\n",
        "model.compile(loss='binary_crossentropy', optimizer='adam', metrics=['accuracy'])\n",
        "model.summary()\n",
        "plot_model(model, to_file='drive/MyDrive/Twitter-US-Airline-Sentiment/model.png', show_shapes=True)"
      ],
      "metadata": {
        "colab": {
          "base_uri": "https://localhost:8080/",
          "height": 1000
        },
        "id": "jPsJWbnvHcrA",
        "outputId": "bfb0f1bf-5f47-4b7c-ecec-35c0b288a468"
      },
      "execution_count": 21,
      "outputs": [
        {
          "output_type": "stream",
          "name": "stdout",
          "text": [
            "Model: \"sequential_1\"\n",
            "_________________________________________________________________\n",
            " Layer (type)                Output Shape              Param #   \n",
            "=================================================================\n",
            " embedding_1 (Embedding)     (None, 31, 100)           400000    \n",
            "                                                                 \n",
            " conv1d_1 (Conv1D)           (None, 24, 32)            25632     \n",
            "                                                                 \n",
            " max_pooling1d_1 (MaxPooling  (None, 12, 32)           0         \n",
            " 1D)                                                             \n",
            "                                                                 \n",
            " flatten_1 (Flatten)         (None, 384)               0         \n",
            "                                                                 \n",
            " dense_2 (Dense)             (None, 10)                3850      \n",
            "                                                                 \n",
            " dense_3 (Dense)             (None, 1)                 11        \n",
            "                                                                 \n",
            "=================================================================\n",
            "Total params: 429,493\n",
            "Trainable params: 429,493\n",
            "Non-trainable params: 0\n",
            "_________________________________________________________________\n"
          ]
        },
        {
          "output_type": "execute_result",
          "data": {
            "image/png": "[encoded data removed]",
            "text/plain": [
              "<IPython.core.display.Image object>"
            ]
          },
          "metadata": {},
          "execution_count": 21
        }
      ]
    },
    {
      "cell_type": "code",
      "source": [
        "Model = model.fit(X_train,\n",
        "                  Y_train,\n",
        "                  epochs=20,\n",
        "                  batch_size=32,\n",
        "                  validation_split = 0.2,\n",
        "                  verbose = 2)"
      ],
      "metadata": {
        "colab": {
          "base_uri": "https://localhost:8080/"
        },
        "id": "hWTykiGIIlTp",
        "outputId": "f687575a-e114-4e55-8625-1d62c1431b4e"
      },
      "execution_count": 22,
      "outputs": [
        {
          "output_type": "stream",
          "name": "stdout",
          "text": [
            "Epoch 1/20\n",
            "83/83 - 9s - loss: 0.5552 - accuracy: 0.7203 - val_loss: 0.3581 - val_accuracy: 0.8550 - 9s/epoch - 109ms/step\n",
            "Epoch 2/20\n",
            "83/83 - 4s - loss: 0.2321 - accuracy: 0.9116 - val_loss: 0.2711 - val_accuracy: 0.9003 - 4s/epoch - 48ms/step\n",
            "Epoch 3/20\n",
            "83/83 - 2s - loss: 0.0975 - accuracy: 0.9675 - val_loss: 0.2760 - val_accuracy: 0.9003 - 2s/epoch - 18ms/step\n",
            "Epoch 4/20\n",
            "83/83 - 2s - loss: 0.0418 - accuracy: 0.9890 - val_loss: 0.3233 - val_accuracy: 0.8912 - 2s/epoch - 26ms/step\n",
            "Epoch 5/20\n",
            "83/83 - 1s - loss: 0.0188 - accuracy: 0.9951 - val_loss: 0.3398 - val_accuracy: 0.8912 - 937ms/epoch - 11ms/step\n",
            "Epoch 6/20\n",
            "83/83 - 1s - loss: 0.0109 - accuracy: 0.9974 - val_loss: 0.3742 - val_accuracy: 0.8943 - 1s/epoch - 13ms/step\n",
            "Epoch 7/20\n",
            "83/83 - 1s - loss: 0.0089 - accuracy: 0.9977 - val_loss: 0.3948 - val_accuracy: 0.8852 - 911ms/epoch - 11ms/step\n",
            "Epoch 8/20\n",
            "83/83 - 1s - loss: 0.0083 - accuracy: 0.9981 - val_loss: 0.3971 - val_accuracy: 0.8927 - 926ms/epoch - 11ms/step\n",
            "Epoch 9/20\n",
            "83/83 - 1s - loss: 0.0070 - accuracy: 0.9989 - val_loss: 0.4307 - val_accuracy: 0.8807 - 858ms/epoch - 10ms/step\n",
            "Epoch 10/20\n",
            "83/83 - 1s - loss: 0.0066 - accuracy: 0.9989 - val_loss: 0.4395 - val_accuracy: 0.8792 - 1s/epoch - 14ms/step\n",
            "Epoch 11/20\n",
            "83/83 - 1s - loss: 0.0077 - accuracy: 0.9981 - val_loss: 0.5375 - val_accuracy: 0.8671 - 1s/epoch - 12ms/step\n",
            "Epoch 12/20\n",
            "83/83 - 1s - loss: 0.0076 - accuracy: 0.9981 - val_loss: 0.5367 - val_accuracy: 0.8701 - 732ms/epoch - 9ms/step\n",
            "Epoch 13/20\n",
            "83/83 - 1s - loss: 0.0046 - accuracy: 0.9989 - val_loss: 0.4623 - val_accuracy: 0.8852 - 1s/epoch - 13ms/step\n",
            "Epoch 14/20\n",
            "83/83 - 0s - loss: 0.0061 - accuracy: 0.9985 - val_loss: 0.4696 - val_accuracy: 0.8761 - 488ms/epoch - 6ms/step\n",
            "Epoch 15/20\n",
            "83/83 - 1s - loss: 0.0053 - accuracy: 0.9989 - val_loss: 0.4900 - val_accuracy: 0.8686 - 756ms/epoch - 9ms/step\n",
            "Epoch 16/20\n",
            "83/83 - 1s - loss: 0.0051 - accuracy: 0.9989 - val_loss: 0.5005 - val_accuracy: 0.8625 - 694ms/epoch - 8ms/step\n",
            "Epoch 17/20\n",
            "83/83 - 1s - loss: 0.0046 - accuracy: 0.9985 - val_loss: 0.4875 - val_accuracy: 0.8792 - 707ms/epoch - 9ms/step\n",
            "Epoch 18/20\n",
            "83/83 - 0s - loss: 0.0039 - accuracy: 0.9989 - val_loss: 0.5667 - val_accuracy: 0.8625 - 401ms/epoch - 5ms/step\n",
            "Epoch 19/20\n",
            "83/83 - 1s - loss: 0.0029 - accuracy: 0.9989 - val_loss: 0.5033 - val_accuracy: 0.8822 - 561ms/epoch - 7ms/step\n",
            "Epoch 20/20\n",
            "83/83 - 0s - loss: 0.0046 - accuracy: 0.9981 - val_loss: 0.4989 - val_accuracy: 0.8746 - 375ms/epoch - 5ms/step\n"
          ]
        }
      ]
    },
    {
      "cell_type": "markdown",
      "source": [
        "## Evaluasi"
      ],
      "metadata": {
        "id": "iRN4beNEOZ71"
      }
    },
    {
      "cell_type": "code",
      "source": [
        "hasil_evaluasi = model.evaluate(X_test, Y_test, verbose=False)\n",
        "print(\"loss = \",hasil_evaluasi[0])\n",
        "print(\"accuracy = \",hasil_evaluasi[1])"
      ],
      "metadata": {
        "colab": {
          "base_uri": "https://localhost:8080/"
        },
        "id": "e4m5PMu_JA68",
        "outputId": "c9bd3f7e-883d-49ad-e909-aab35076845c"
      },
      "execution_count": 26,
      "outputs": [
        {
          "output_type": "stream",
          "name": "stdout",
          "text": [
            "loss =  0.5314568877220154\n",
            "accuracy =  0.8843441605567932\n"
          ]
        }
      ]
    },
    {
      "cell_type": "code",
      "source": [
        "def plot_confusion_matrix(cm, classes,\n",
        "                          normalize=False,\n",
        "                          title='Confusion matrix',\n",
        "                          cmap=plt.cm.Blues):\n",
        "    plt.imshow(cm, interpolation='nearest', cmap=cmap)\n",
        "    plt.title(title)\n",
        "    plt.colorbar()\n",
        "    tick_marks = np.arange(len(classes))\n",
        "    plt.xticks(tick_marks, classes, rotation=45)\n",
        "    plt.yticks(tick_marks, classes)\n",
        "    if normalize:\n",
        "        cm = cm.astype('float') / cm.sum(axis=1)[:, np.newaxis]\n",
        "\n",
        "    thresh = cm.max() / 2.\n",
        "    for i, j in itertools.product(range(cm.shape[0]), range(cm.shape[1])):\n",
        "        plt.text(j, i, cm[i, j],\n",
        "                 horizontalalignment=\"center\",\n",
        "                 color=\"white\" if cm[i, j] > thresh else \"black\")\n",
        "\n",
        "    plt.tight_layout()\n",
        "    plt.ylabel('True label')\n",
        "    plt.xlabel('Predicted label')\n",
        "\n",
        "y_pred = model.predict(X_test)\n",
        "threshold = 0.5\n",
        "y_pred_classes = (y_pred > threshold).astype(int)\n",
        "confusion_mtx = confusion_matrix(Y_test, y_pred_classes)\n",
        "plot_confusion_matrix(confusion_mtx, classes = range(2)) "
      ],
      "metadata": {
        "colab": {
          "base_uri": "https://localhost:8080/",
          "height": 524
        },
        "id": "PUd3evrvMida",
        "outputId": "5504e751-cfd9-4b7f-cf7b-2505f74e143c"
      },
      "execution_count": 48,
      "outputs": [
        {
          "output_type": "stream",
          "name": "stdout",
          "text": [
            "45/45 [==============================] - 0s 2ms/step\n"
          ]
        },
        {
          "output_type": "display_data",
          "data": {
            "text/plain": [
              "<Figure size 640x480 with 2 Axes>"
            ],
            "image/png": "[encoded data removed]"
          },
          "metadata": {}
        }
      ]
    },
    {
      "cell_type": "markdown",
      "source": [
        "## Test"
      ],
      "metadata": {
        "id": "Qf9wKPlPOUI6"
      }
    },
    {
      "cell_type": "code",
      "source": [
        "kalimat = ['Meetings: Air crew is so dumb.']\n",
        "# sample = ['it was amazing and arrived an hour early']\n",
        "kalimat = tokenizer.texts_to_sequences(kalimat)\n",
        "kalimat = pad_sequences(kalimat, maxlen=31, dtype='int32', value=0)\n",
        "sentiment_prediksi = model.predict(kalimat,batch_size=1,verbose = 2)[0]\n",
        "\n",
        "if(sentiment_prediksi[0] < 0.5):\n",
        "    print(\"negative\")\n",
        "else:\n",
        "    print(\"positive\")"
      ],
      "metadata": {
        "colab": {
          "base_uri": "https://localhost:8080/"
        },
        "id": "0L5QfDr7OEdO",
        "outputId": "3b4704fe-186b-4802-bc28-20e3782b960c"
      },
      "execution_count": 39,
      "outputs": [
        {
          "output_type": "stream",
          "name": "stdout",
          "text": [
            "1/1 - 0s - 24ms/epoch - 24ms/step\n",
            "negative\n"
          ]
        }
      ]
    },
    {
      "cell_type": "code",
      "source": [
        "kalimat = ['it was amazing and arrived an hour early']\n",
        "kalimat = tokenizer.texts_to_sequences(kalimat)\n",
        "kalimat = pad_sequences(kalimat, maxlen=31, dtype='int32', value=0)\n",
        "sentiment_prediksi = model.predict(kalimat,batch_size=1,verbose = 2)[0]\n",
        "\n",
        "if(sentiment_prediksi[0] < 0.5):\n",
        "    print(\"negative\")\n",
        "else:\n",
        "    print(\"positive\")"
      ],
      "metadata": {
        "colab": {
          "base_uri": "https://localhost:8080/"
        },
        "id": "HzLlLmjOOqfN",
        "outputId": "7fbb018f-936c-443e-dad5-5b084d1b868c"
      },
      "execution_count": 40,
      "outputs": [
        {
          "output_type": "stream",
          "name": "stdout",
          "text": [
            "1/1 - 0s - 37ms/epoch - 37ms/step\n",
            "positive\n"
          ]
        }
      ]
    }
  ]
}